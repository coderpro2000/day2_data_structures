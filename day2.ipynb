{
 "cells": [
  {
   "cell_type": "raw",
   "metadata": {},
   "source": [
    "What is Recursion? \n",
    "The process in which a function calls itself directly or indirectly is called recursion and the corresponding function is called\n",
    "as recursive function. Using recursive algorithm, certain problems can be solved quite easily. Examples of such problems are\n",
    "Towers of Hanoi (TOH), Inorder/Preorder/Postorder Tree Traversals, DFS of Graph, etc.\n",
    "\n",
    "Properties:\n",
    "A recursive function can go infinite like a loop. To avoid infinite running of recursive function, there are two properties that\n",
    "a recursive function must have −\n",
    "\n",
    "Base criteria − There must be at least one base criteria or condition, such that, when this condition is met the function stops\n",
    "calling itself recursively.\n",
    "\n",
    "Progressive approach − The recursive calls should progress in such a way that each time a recursive call is made it comes closer\n",
    "to the base criteria.\n",
    "\n",
    "examles of recursion:\n",
    "1. factorial-\n",
    "    5!=5*4*3*2*1\n",
    "    \n",
    "    factorial(n):\n",
    "        if(n<0):\n",
    "            return null\n",
    "        else:\n",
    "            return(n*factorial(n-1))\n",
    "        \n",
    "2. fibonacci series:\n",
    "    0,1,1,2,3,5,8\n",
    "    \n",
    "    function(n):\n",
    "        if(n<0):\n",
    "            return null\n",
    "        else:\n",
    "            logic\n",
    "            return(function(n-1))"
   ]
  },
  {
   "cell_type": "code",
   "execution_count": 1,
   "metadata": {},
   "outputs": [
    {
     "name": "stdout",
     "output_type": "stream",
     "text": [
      "enter the number4\n",
      "24\n"
     ]
    }
   ],
   "source": [
    "#pratical implement for factorial program\n",
    "def factorial(n):\n",
    "    if n<=1:\n",
    "        return 1\n",
    "    else:\n",
    "        n=n*factorial(n-1)\n",
    "        return n\n",
    "n=int(input(\"enter the number\"))\n",
    "print(factorial(n))"
   ]
  },
  {
   "cell_type": "code",
   "execution_count": 2,
   "metadata": {},
   "outputs": [
    {
     "name": "stdout",
     "output_type": "stream",
     "text": [
      "enter the number4\n",
      "fibo series\n",
      "  0   1  1  2  3  5"
     ]
    }
   ],
   "source": [
    "#pratical implement of fibonacci series\n",
    "a=0\n",
    "b=1\n",
    "n=int(input(\"enter the number\"))\n",
    "print(\"fibo series\")\n",
    "print(\" \",a,\" \",b,end=\"\")\n",
    "for i in range(n):\n",
    "    c=a+b\n",
    "    a=b\n",
    "    b=c\n",
    "    print(\" \",c,end=\"\")"
   ]
  },
  {
   "cell_type": "raw",
   "metadata": {},
   "source": [
    "#difference between recursion and iteration\n",
    "1. space efficient is  not required in recursion but space efficient is required in iteration.\n",
    "2. time efficient is not required in recursion but time efficient is requires in iteration.\n",
    "3. ease of coding in recursion but in iteration is not ease of coding"
   ]
  },
  {
   "cell_type": "code",
   "execution_count": null,
   "metadata": {},
   "outputs": [],
   "source": []
  }
 ],
 "metadata": {
  "kernelspec": {
   "display_name": "Python 3",
   "language": "python",
   "name": "python3"
  },
  "language_info": {
   "codemirror_mode": {
    "name": "ipython",
    "version": 3
   },
   "file_extension": ".py",
   "mimetype": "text/x-python",
   "name": "python",
   "nbconvert_exporter": "python",
   "pygments_lexer": "ipython3",
   "version": "3.7.6"
  }
 },
 "nbformat": 4,
 "nbformat_minor": 4
}
